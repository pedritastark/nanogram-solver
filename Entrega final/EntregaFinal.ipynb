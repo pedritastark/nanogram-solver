{
 "cells": [
  {
   "attachments": {},
   "cell_type": "markdown",
   "metadata": {},
   "source": [
    "<table>\n",
    "    <tr>\n",
    "        <td><img src=\"./img/Macc.png\" width=\"auto\"/></td>\n",
    "        <td>\n",
    "            <table><tr>\n",
    "            <h1 style=\"color:blue;text-align:center\">Lógica para Ciencias de la Computación</h1></td>\n",
    "            </tr></table>   \n",
    "        <td>&nbsp;</td>\n",
    "        <td>\n",
    "            <table><tr>\n",
    "            <tp><p style=\"font-size:150%;text-align:center\">Entrega Final</p></tp>\n",
    "            <tp><p style=\"font-size:150%;text-align:center\">Nanograma 5x5</p></tp>\n",
    "            </tr></table>\n",
    "        </td>\n",
    "    </tr>\n",
    "</table>\n",
    "\n",
    "---"
   ]
  },
  {
   "attachments": {},
   "cell_type": "markdown",
   "metadata": {},
   "source": [
    "# Objetivo <a class=\"anchor\" id=\"inicio\"></a>\n",
    "\n",
    "El siguiente problema se puede definir como una cuadricula de tamaño n x n en la cual en cada columna y fila están indicados una secuencia de números o un numero solo. Es decir, existen dos casos el primero si es un numero solo indica el número exacto de casillas que deben ser rellenadas en esa fila y columna. El otro caso una secuencia de números en el que el primer elemento es la cantidad de cuadro seguidos posibles a rellenar hasta un espacio y así con todos los elementos de la secuencia.\n",
    "\n",
    "Se usará una cuadricula de tamaño 5x5, con cualquiera de los posibles casos .\n",
    "\n",
    "<img src=\"./img/emptynanogram.png\" width=\"auto\"/>\n",
    "\n",
    "\n",
    "\n",
    "\n",
    "Desarrollaremos la presentación de la siguiente manera:\n"
   ]
  },
  {
   "attachments": {},
   "cell_type": "markdown",
   "metadata": {},
   "source": [
    "# Secciones\n",
    "\n",
    "1. [Problema ilustrativo.](#prob)\n",
    "2. [Implementación de las restricciones.](#forms)\n",
    "3. [Visualización.](#vis)\n",
    "4. [Solución mediante SATtabla.](#sat)\n"
   ]
  },
  {
   "attachments": {},
   "cell_type": "markdown",
   "metadata": {},
   "source": [
    "# Problema de ejemplo <a class=\"anchor\" id=\"prob\"></a>\n",
    "\n",
    "([Volver al inicio](#inicio))\n",
    "\n",
    "Comenzaremos con el problema presentado en las diapositivas de clase, que repetimos aquí por conveniencia:\n",
    "\n",
    "\n",
    "<img src=\"./img/figura2.png\" width=\"200px\"/>\n",
    "<img src=\"./img/regla2-2.png\" width=\"200px\"/>\n",
    "\n",
    "\n",
    "\n",
    "Las restricciones y su representación usando lógica proposicional son las siguientes:\n",
    "\n",
    "1. Debe haber exactamente dos casillas rellenas consecutivas en la primera fila de la cuadricula:\n",
    "\n",
    "\n",
    "$\\bigvee\\limits_{i=0}^3  \\Bigg[Ren_{(0, i)} \\land Ren_{(0, i+1)} \\bigwedge\\limits_{j=o, j\\neq i,i+1}^4 \\Bigg(\\neg{Ren_{(0, j)}}\\Bigg)\\Bigg] $ \n",
    "\n",
    "2. Debe haber dos casillas rellenas consecutivas luego minimo un espacio la primera columna de la cuadricula:\n",
    "\n",
    "24.$\\neg{Ren_{(2,n)}} \\bigwedge\\limits_{j=0, j \\neq 2}^4 \\Bigg( Ren_{(j,n)} \\Bigg)$\n",
    "\n",
    "\n"
   ]
  },
  {
   "attachments": {},
   "cell_type": "markdown",
   "metadata": {},
   "source": [
    "# Creacion las restricciones <a class=\"anchor\" id=\"prob\"></a>\n",
    "\n",
    "([Volver al inicio](#inicio))\n",
    "\n",
    "Gracias al ejemplo anterior se puede evidenciar que cada fila y columna tendra su propias restricciones según el numero indicado en la parte superior. Como vamos a generalizar la resolucion de todos los casos implementamos todas las posibles restricciones en el código pero para resolver el Nanograma solo se tomaran las 10 necesarias con el metodo clasificador_reglas\n",
    "\n",
    "\n",
    "\n",
    "\n",
    "\n"
   ]
  },
  {
   "cell_type": "code",
   "execution_count": null,
   "metadata": {},
   "outputs": [],
   "source": [
    "    \n",
    "def clasificador_reglas(self):\n",
    "        \n",
    "        # Este metodo esta encargado de elegir las 10 reglas que se van a necesitar para resolver el nanograma\n",
    "        # Dadas las condiciones iniciales\n",
    "        \n",
    "        \n",
    "        # Al iniciar         self.reglas = []\n",
    "        # finalizando este ciclo self.reglas tendra 10 reglas las cuales son la Ytoria de la solucion\n",
    "    for x in self.condiciones_iniciales.keys(): \n",
    "            # Si la condicion es un numero solo va a hacer append de la regla a self.reglas dependiendo del numero que es la condicion inicial\n",
    "            # Para esa fila y/o columna\n",
    "        try:\n",
    "            funciones_regla = {0: self.regla1, 1: self.regla2, 2: self.regla3,3: self.regla4, 4: self.regla5, 5: self.regla6}\n",
    "            valor_condicion = self.condiciones_iniciales[x]\n",
    "            if valor_condicion in funciones_regla:\n",
    "                self.reglas.append(funciones_regla[valor_condicion](x))\n",
    "\n",
    "        except TypeError: \n",
    "                \n",
    "                # Si la condicion es una secuencia de numeros solo va a hacer append de la regla dependiendo del numero que es la condicion inicial\n",
    "                # Para esa fila y/o columna\n",
    "                \n",
    "                \n",
    "                \n",
    "            if self.condiciones_iniciales[x] == [1,1]: self.reglas.append(self.regla7(x))\n",
    "            elif self.condiciones_iniciales[x] == [1,2]: self.reglas.append(self.regla8(x))\n",
    "            elif self.condiciones_iniciales[x] == [1,3]: self.reglas.append(self.regla9(x))\n",
    "                \n",
    "            elif self.condiciones_iniciales[x] == [2,1]: self.reglas.append(self.regla10(x))\n",
    "            elif self.condiciones_iniciales[x] == [2,2]: self.reglas.append(self.regla11(x))\n",
    "                \n",
    "            elif self.condiciones_iniciales[x] == [3,1]: self.reglas.append(self.regla12(x))\n",
    "                \n",
    "            elif self.condiciones_iniciales[x] == [1,1,1]: self.reglas.append(self.regla13(x))"
   ]
  },
  {
   "attachments": {},
   "cell_type": "markdown",
   "metadata": {},
   "source": [
    "## Implementación de las restricciones <a class=\"anchor\" id=\"forms\"></a>\n",
    "\n",
    "([Volver al inicio](#inicio))\n",
    "\n",
    "En la librería `EntregaFinal` hemos implementado veintiseis posibles  reglas. Puede correr el siguiente código para visualizar el resultado, y puede entrar a la librería para explorar la implementación, luego de que la fuuncion clasificador de formulas se aplica sobre el obejto nanograma:"
   ]
  },
  {
   "cell_type": "code",
   "execution_count": null,
   "metadata": {
    "scrolled": true
   },
   "outputs": [],
   "source": [
    "from Logica import *\n",
    "from EntregaFinal import Nanograma\n",
    "\n",
    "### Cuando se crea el objeto Nanograma ya estan definidas las condiciones iniciales para que al llamar al metodo escoja las 10 reglas de acuerdo a las condiciones iniciales dadas\n",
    "## las condiciones inciales se crearon en un atributo del objeto que consiste en un diccionario donde la llave indica la fila o columna y el valor la condicion de la misma\n",
    "# \n",
    "# suponga self. condiciones iniciales = {0: [2, 1], 1: 3, 2: 4, 3: [1, 3], 4: 0, 5: [1, 1], 6: 3, 7: 3, 8: 3, 9: [1, 2]}\n",
    "# \n",
    "# la condicion de la fila 0 -> [2,1] , fila 1 -> 3, ..... , columna 0 -> [1,1], .... , columna 4 -> [1,2]\n",
    "\n",
    "c = Nanograma()\n",
    "\n",
    "# el metodo clasificador_reglas toma las condiciones iniciales y por cada condicion agrega la regla correspondiente a self.reglas  \n",
    "# self.reglas al principio es una lista vacia que luego se le van añadiendo las reglas segun las restricciones que requiera el problema \n",
    "c.clasificador_reglas()"
   ]
  },
  {
   "cell_type": "code",
   "execution_count": null,
   "metadata": {},
   "outputs": [],
   "source": []
  },
  {
   "attachments": {},
   "cell_type": "markdown",
   "metadata": {},
   "source": [
    "Observe que ahora el objeto tiene un atributo `reglas`, en el cual está una lista con las diez reglas implementadas en Python:"
   ]
  },
  {
   "cell_type": "code",
   "execution_count": null,
   "metadata": {},
   "outputs": [],
   "source": [
    "c.reglas"
   ]
  },
  {
   "attachments": {},
   "cell_type": "markdown",
   "metadata": {},
   "source": [
    "La clase `Nanograma` crea de una vez el descriptor, mediante el cual podemos decodificar las letras y reglas:"
   ]
  },
  {
   "cell_type": "code",
   "execution_count": null,
   "metadata": {},
   "outputs": [],
   "source": [
    "c.RenC.escribir('ć')"
   ]
  },
  {
   "attachments": {},
   "cell_type": "markdown",
   "metadata": {},
   "source": [
    "También podemos revisar regla por regla. Observe que las fórmulas incluyen un método `ver` para visualizar más fácilmente las reglas:"
   ]
  },
  {
   "cell_type": "code",
   "execution_count": null,
   "metadata": {},
   "outputs": [],
   "source": [
    "A = inorder_to_tree(c.reglas[1])\n",
    "print(A.ver(c.RenC))"
   ]
  },
  {
   "cell_type": "code",
   "execution_count": null,
   "metadata": {},
   "outputs": [],
   "source": [
    "A = inorder_to_tree(c.reglas[0])\n",
    "print(A.ver(c.RenC))"
   ]
  },
  {
   "attachments": {},
   "cell_type": "markdown",
   "metadata": {},
   "source": [
    "## Visualización <a class=\"anchor\" id=\"vis\"></a>\n",
    "\n",
    "([Volver al inicio](#inicio))\n",
    "\n",
    "Una parte muy importante de la clase `Nanograma` es el método que permite visualizar el tablero, dada una interpretación de las reglas proposicionales. Esto es lo que nos permite entender la solución del problema."
   ]
  },
  {
   "cell_type": "code",
   "execution_count": null,
   "metadata": {},
   "outputs": [],
   "source": [
    "I = {c.RenC.P([0,2]):True, c.RenC.P([1,2]):True, c.RenC.P([2,2]):True}\n",
    "c.visualizar(I)"
   ]
  },
  {
   "attachments": {},
   "cell_type": "markdown",
   "metadata": {},
   "source": [
    "## Solución mediante SATsolvers <a class=\"anchor\" id=\"sat\"></a>\n",
    "\n",
    "([Volver al inicio](#inicio))\n",
    "\n",
    "Ahora podemos ver el corazón de la solución a este y todos los demas problemas que desarrollemos: un SATsolver. Usaremos el SATtabla que implementamos anteriormente."
   ]
  },
  {
   "cell_type": "code",
   "execution_count": null,
   "metadata": {},
   "outputs": [],
   "source": [
    "%%time\n",
    "A = inorder_to_tree(Ytoria(c.reglas))\n",
    "I = A.SATtabla()"
   ]
  },
  {
   "attachments": {},
   "cell_type": "markdown",
   "metadata": {},
   "source": [
    "Podemos decodificar el diccionario `I` obtenido para ver la solución:"
   ]
  },
  {
   "cell_type": "code",
   "execution_count": null,
   "metadata": {},
   "outputs": [],
   "source": [
    "if I != None:\n",
    "    for k in I:\n",
    "        print(c.CenC.escribir(k), I[k])\n",
    "else:\n",
    "    print('¡No hay solución!')"
   ]
  },
  {
   "attachments": {},
   "cell_type": "markdown",
   "metadata": {},
   "source": [
    "O, mejor aún, podemos visualizar la solución:"
   ]
  },
  {
   "cell_type": "code",
   "execution_count": null,
   "metadata": {},
   "outputs": [],
   "source": [
    "if I != None:\n",
    "    c.visualizar(I)\n",
    "else:\n",
    "    print('¡No hay solución!')"
   ]
  },
  {
   "attachments": {},
   "cell_type": "markdown",
   "metadata": {},
   "source": [
    "Vemos que la solución encontrada por SATtabla es muy rápida."
   ]
  },
  {
   "attachments": {},
   "cell_type": "markdown",
   "metadata": {},
   "source": [
    "Para los otros SATsolvers tenemos:\n"
   ]
  },
  {
   "cell_type": "code",
   "execution_count": null,
   "metadata": {},
   "outputs": [],
   "source": [
    "\n",
    "\n",
    "## DPLL\n",
    "\n",
    "start_time = time.time()\n",
    "\n",
    "A = Ytoria(c.reglas)\n",
    "S = tseitin(A)\n",
    "S, I = dpll(S, {})\n",
    "\n",
    "\n",
    "if I != None:\n",
    "    for k in I:\n",
    "        c.RenC.escribir(k), I[k]\n",
    "            \n",
    "        \n",
    "else:\n",
    "    print('¡No hay solución!')\n",
    "\n",
    "c.visualizar(I)\n",
    "\n",
    "print(\"--- %s seconds ---\" % (time.time() - start_time))  \n"
   ]
  },
  {
   "cell_type": "code",
   "execution_count": null,
   "metadata": {},
   "outputs": [],
   "source": [
    "## SAT tableaux\n",
    "\n",
    "start_time = time.time()\n",
    "\n",
    "A = inorder_to_tree(Ytoria(c.reglas[0:5]))\n",
    "I = A.SATtableaux()\n",
    "\n",
    "if I != None:\n",
    "     for k in I:\n",
    "         print(c.RenC.escribir(k), I[k])\n",
    "else:\n",
    "     print('¡No hay solución!')\n",
    "    \n",
    "c.visualizar(I)\n",
    "\n",
    "print(\"--- %s seconds ---\" % (time.time() - start_time))  \n"
   ]
  },
  {
   "cell_type": "code",
   "execution_count": null,
   "metadata": {},
   "outputs": [],
   "source": [
    "## SAT tabla\n",
    "\n",
    "start_time = time.time()\n",
    "\n",
    "A = inorder_to_tree(Ytoria(c.reglas[0:5]))\n",
    "I = A.SATtabla()\n",
    "\n",
    "\n",
    "if I != None:\n",
    "    for k in I:\n",
    "        print(c.RenC.escribir(k), I[k])\n",
    "else:\n",
    "    print('¡No hay solución!')\n",
    "    \n",
    "c.visualizar(I)\n",
    "\n",
    "print(\"--- %s seconds ---\" % (time.time() - start_time))  \n"
   ]
  },
  {
   "cell_type": "code",
   "execution_count": null,
   "metadata": {},
   "outputs": [],
   "source": [
    "\n",
    "##WalkSAT\n",
    "\n",
    "start_time = time.time()\n",
    "\n",
    "A = Ytoria(c.reglas)\n",
    "S = tseitin(A)\n",
    "S, I = walkSAT(S)\n",
    "\n",
    "\n",
    "if I != None:\n",
    "    for k in I:\n",
    "        print(c.RenC.escribir(k), I[k])\n",
    "            \n",
    "        \n",
    "else:\n",
    "    print('¡No hay solución!')\n",
    "\n",
    "c.visualizar(I)\n",
    "\n",
    "\n",
    "print(\"--- %s seconds ---\" % (time.time() - start_time))  \n",
    "\n"
   ]
  }
 ],
 "metadata": {
  "kernelspec": {
   "display_name": "Python 3",
   "language": "python",
   "name": "python3"
  },
  "language_info": {
   "codemirror_mode": {
    "name": "ipython",
    "version": 3
   },
   "file_extension": ".py",
   "mimetype": "text/x-python",
   "name": "python",
   "nbconvert_exporter": "python",
   "pygments_lexer": "ipython3",
   "version": "3.10.7"
  }
 },
 "nbformat": 4,
 "nbformat_minor": 4
}
